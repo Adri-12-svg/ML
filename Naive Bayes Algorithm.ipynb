{
 "cells": [
  {
   "cell_type": "markdown",
   "id": "ff98e790",
   "metadata": {},
   "source": [
    "## Introduction\n",
    "<b>Naive Bayes</b> is a classification technique based on the Bayes theorem. It is a simple but powerful algorithm for predictive modeling under supervised learning algorithms. The technique behind Naive Bayes is easy to understand. Naive Bayes has higher accuracy and speed when we have large data points.\n",
    "\n",
    "There are three types of Naive Bayes models: <u>Gaussian</u>, <u>Multinomial</u>, and <u>Bernoulli</u>.\n",
    "\n",
    "- <b>Gaussian Naive Bayes</b> - This is a variant of Naive Bayes which supports continuous values and has an assumption that each class is normally distributed.\n",
    "\n",
    "- <b>Multinomial Naive Bayes</b> - This is another variant which is an event-based model that has features as vectors where sample(feature) represents frequencies with which certain events have occurred.\n",
    "\n",
    "- <b>Bernoulli</b> - This variant is also event-based where features are independent boolean which are in binary form."
   ]
  },
  {
   "cell_type": "code",
   "execution_count": 1,
   "id": "3e5e37ad",
   "metadata": {},
   "outputs": [
    {
     "data": {
      "text/html": [
       "<div>\n",
       "<style scoped>\n",
       "    .dataframe tbody tr th:only-of-type {\n",
       "        vertical-align: middle;\n",
       "    }\n",
       "\n",
       "    .dataframe tbody tr th {\n",
       "        vertical-align: top;\n",
       "    }\n",
       "\n",
       "    .dataframe thead th {\n",
       "        text-align: right;\n",
       "    }\n",
       "</style>\n",
       "<table border=\"1\" class=\"dataframe\">\n",
       "  <thead>\n",
       "    <tr style=\"text-align: right;\">\n",
       "      <th></th>\n",
       "      <th>x_1</th>\n",
       "      <th>x_2</th>\n",
       "      <th>y</th>\n",
       "    </tr>\n",
       "  </thead>\n",
       "  <tbody>\n",
       "    <tr>\n",
       "      <th>0</th>\n",
       "      <td>3.759481</td>\n",
       "      <td>7.507940</td>\n",
       "      <td>0.0</td>\n",
       "    </tr>\n",
       "    <tr>\n",
       "      <th>1</th>\n",
       "      <td>3.422057</td>\n",
       "      <td>4.991203</td>\n",
       "      <td>0.0</td>\n",
       "    </tr>\n",
       "    <tr>\n",
       "      <th>2</th>\n",
       "      <td>2.778818</td>\n",
       "      <td>4.112071</td>\n",
       "      <td>0.0</td>\n",
       "    </tr>\n",
       "    <tr>\n",
       "      <th>3</th>\n",
       "      <td>4.018066</td>\n",
       "      <td>5.653732</td>\n",
       "      <td>0.0</td>\n",
       "    </tr>\n",
       "  </tbody>\n",
       "</table>\n",
       "</div>"
      ],
      "text/plain": [
       "        x_1       x_2    y\n",
       "0  3.759481  7.507940  0.0\n",
       "1  3.422057  4.991203  0.0\n",
       "2  2.778818  4.112071  0.0\n",
       "3  4.018066  5.653732  0.0"
      ]
     },
     "execution_count": 1,
     "metadata": {},
     "output_type": "execute_result"
    }
   ],
   "source": [
    "%matplotlib inline\n",
    "import numpy as np\n",
    "import pandas as pd\n",
    "import matplotlib.pyplot as plt\n",
    "import seaborn as sns\n",
    "from sklearn import metrics\n",
    "from sklearn.metrics import accuracy_score, confusion_matrix\n",
    "from sklearn.model_selection import train_test_split\n",
    "\n",
    "# Input data files are available in the \"../input/\" directory.\n",
    "        \n",
    "data = pd.read_csv('C:\\\\Users\\\\Adrij\\\\Documents\\\\Data Analysis and Machine Learning\\\\ds2_train.csv')\n",
    "testdata=pd.read_csv('C:\\\\Users\\\\Adrij\\\\Documents\\\\Data Analysis and Machine Learning\\\\ds2_test.csv')\n",
    "\n",
    "data.head(4)"
   ]
  },
  {
   "cell_type": "markdown",
   "id": "abc3f3eb",
   "metadata": {},
   "source": [
    "We will use a Gaussian model to detect anomalous examples in our dataset. \n",
    "* We will apply the anomaly detection algorithm to a larger dataset with many dimensions. \n",
    "\n",
    "The formula which will be applied will be :\n",
    "![Gaussian Naive Bayes Formula](https://iq.opengenus.org/content/images/2020/02/Screenshot_6.jpg)\n",
    "\n",
    "###  Dataset\n",
    "\n",
    "We will start by loading the dataset for this task. \n",
    "- The `data()` and `testdata()` function shown below loads the data into the variables `X_train`, `X_test` , `y_train` and `y_test` \n",
    "    - We will use `X_train` and `y_train` to fit a Gaussian distribution \n",
    "    - We will use `X_test` and `y_test` as a cross validation set to select a threshold and determine anomalous vs normal examples\n",
    "    \n",
    "## Evaluate Model Performance\n",
    "\n",
    "Almost all models in `Scikit-Learn API provide predict()` method which can be used to predict target values on Test Set passed to it."
   ]
  },
  {
   "cell_type": "code",
   "execution_count": 2,
   "id": "e97c2330",
   "metadata": {},
   "outputs": [
    {
     "data": {
      "text/plain": [
       "0.88"
      ]
     },
     "execution_count": 2,
     "metadata": {},
     "output_type": "execute_result"
    }
   ],
   "source": [
    "# dividing X, y into train and test data\n",
    "X_train, x_test, y_train, Y_test = train_test_split(data[['x_1','x_2']],data['y'],random_state = 0)\n",
    "X_test, x_train, y_test, Y_train=train_test_split(testdata[['x_1','x_2']],testdata['y'],random_state = 0)\n",
    "  \n",
    "# training a Naive Bayes classifier\n",
    "from sklearn.naive_bayes import GaussianNB\n",
    "gnb = GaussianNB().fit(X_train, y_train)\n",
    "gnb_predictions = gnb.predict(X_test)\n",
    "  \n",
    "# accuracy on X_test\n",
    "accuracy = gnb.score(X_test, y_test)\n",
    "accuracy "
   ]
  },
  {
   "cell_type": "code",
   "execution_count": 3,
   "id": "6eb00acc",
   "metadata": {},
   "outputs": [
    {
     "data": {
      "text/plain": [
       "array([[33,  4],\n",
       "       [ 5, 33]], dtype=int64)"
      ]
     },
     "execution_count": 3,
     "metadata": {},
     "output_type": "execute_result"
    }
   ],
   "source": [
    "# creating a confusion matrix\n",
    "cm = confusion_matrix(y_test, gnb_predictions)\n",
    "cm"
   ]
  },
  {
   "cell_type": "code",
   "execution_count": 4,
   "id": "5e0ce895",
   "metadata": {},
   "outputs": [],
   "source": [
    "# Define the sigmoid activator; we ask if we want the sigmoid or its derivative\n",
    "def sigmoid_act(x, der=False):\n",
    "    import numpy as np\n",
    "    \n",
    "    if (der==True) : #derivative of the sigmoid\n",
    "        f = x/(1-x)\n",
    "    else : # sigmoid\n",
    "        f = 1/(1+ np.exp(-x))\n",
    "    \n",
    "    return f\n",
    "\n",
    "# We may employ the Rectifier Linear Unit (ReLU)\n",
    "def ReLU_act(x, der=False):\n",
    "    import numpy as np\n",
    "    \n",
    "    if (der== True):\n",
    "        if x>0 :\n",
    "            f= 1\n",
    "        else :\n",
    "            f = 0\n",
    "    else :\n",
    "        if x>0:\n",
    "            f = x\n",
    "        else :\n",
    "            f = 0\n",
    "    return f\n",
    "\n",
    "# Now we are ready to define the perceptron; \n",
    "# it eats a np.array (that may be a list of features )\n",
    "def perceptron(X, act='Sigmoid'): \n",
    "    import numpy as np\n",
    "    \n",
    "    shapes = X.shape # Pick the number of (rows, columns)!\n",
    "    n= shapes[0]+shapes[1]\n",
    "    # Generating random weights and bias\n",
    "    w = 2*np.random.random(shapes) - 0.5 # We want w to be between -1 and 1\n",
    "    b = np.random.random(1)\n",
    "    \n",
    "    # Initialize the function\n",
    "    f = b[0]\n",
    "    for i in range(0, X.shape[0]-1) : # run over column elements\n",
    "        for j in range(0, X.shape[1]-1) : # run over rows elements\n",
    "            f += w[i, j]*X[i,j]/n\n",
    "    # Pass it to the activation function and return it as an output\n",
    "    if act == 'Sigmoid':\n",
    "        output = sigmoid_act(f)\n",
    "    else :\n",
    "        output = ReLU_act(f)\n",
    "        \n",
    "    return output"
   ]
  },
  {
   "cell_type": "code",
   "execution_count": 5,
   "id": "af5126b4",
   "metadata": {},
   "outputs": [
    {
     "name": "stdout",
     "output_type": "stream",
     "text": [
      "Output with sigmoid activator:  0.8536170737463635\n",
      "Output with ReLU activator:  0.880961120893531\n"
     ]
    }
   ],
   "source": [
    "features = data[['x_1', 'x_2']].to_numpy()\n",
    "print('Output with sigmoid activator: ', perceptron(features))\n",
    "print('Output with ReLU activator: ', perceptron(features))"
   ]
  },
  {
   "cell_type": "code",
   "execution_count": 6,
   "id": "75a62bd4",
   "metadata": {},
   "outputs": [],
   "source": [
    "import numpy as np\n",
    "\n",
    "# Define the sigmoid activator; we ask if we want the sigmoid or its derivative\n",
    "def sigmoid_act(x, der=False):\n",
    "    import numpy as np\n",
    "    \n",
    "    if (der==True) : #derivative of the sigmoid\n",
    "        f = 1/(1+ np.exp(- x))*(1-1/(1+ np.exp(- x)))\n",
    "    else : # sigmoid\n",
    "        f = 1/(1+ np.exp(- x))\n",
    "    \n",
    "    return f\n",
    "\n",
    "# We may employ the Rectifier Linear Unit (ReLU)\n",
    "def ReLU_act(x, der=False):\n",
    "    import numpy as np\n",
    "    \n",
    "    if (der == True): # the derivative of the ReLU is the Heaviside Theta\n",
    "        f = np.heaviside(x, 1)\n",
    "    else :\n",
    "        f = np.maximum(x, 0)\n",
    "    \n",
    "    return f"
   ]
  },
  {
   "cell_type": "code",
   "execution_count": 7,
   "id": "90a695de",
   "metadata": {},
   "outputs": [
    {
     "name": "stdout",
     "output_type": "stream",
     "text": [
      "Training records: 792\n",
      "Test records: 8\n"
     ]
    }
   ],
   "source": [
    "# split into training and testing sets\n",
    "from sklearn.model_selection import train_test_split\n",
    "\n",
    "labels = data['y'].to_numpy()\n",
    "X_train, X_test, Y_train, Y_test = train_test_split(features, labels, test_size=0.01)\n",
    "\n",
    "print('Training records:',Y_train.size)\n",
    "print('Test records:',Y_test.size)"
   ]
  },
  {
   "cell_type": "code",
   "execution_count": 8,
   "id": "55823bf3",
   "metadata": {},
   "outputs": [],
   "source": [
    "# Set up the number of perceptron per each layer:\n",
    "p=4 # Layer 1\n",
    "q=4 # Layer 2\n",
    "\n",
    "# Set up the Learning rate\n",
    "eta =  1/792\n",
    "\n",
    "\n",
    "# 0: Random initialize the relevant data \n",
    "w1 = 2*np.random.rand(p , X_train.shape[1]) - 0.5 # Layer 1\n",
    "b1 = np.random.rand(p)\n",
    "\n",
    "w2 = 2*np.random.rand(q , p) - 0.5  # Layer 2\n",
    "b2 = np.random.rand(q)\n",
    "\n",
    "wOut = 2*np.random.rand(q) - 0.5  # Output Layer\n",
    "bOut = np.random.rand(1)\n",
    "\n",
    "mu = []\n",
    "vec_y = []\n",
    "\n",
    "# Start looping over the passengers, i.e. over I.\n",
    "\n",
    "for I in range(0, X_train.shape[0]): #loop in all the passengers:\n",
    "    \n",
    "    # 1: input the data \n",
    "    x = X_train[I]\n",
    "    \n",
    "    \n",
    "    # 2: Start the algorithm\n",
    "    \n",
    "    # 2.1: Feed forward\n",
    "    z1 = ReLU_act(np.dot(w1, x) + b1) # output layer 1 \n",
    "    z2 = ReLU_act(np.dot(w2, z1) + b2) # output layer 2\n",
    "    y = sigmoid_act(np.dot(wOut, z2) + bOut) # Output of the Output layer\n",
    "    \n",
    "    #2.2: Compute the output layer's error\n",
    "    delta_Out =  (y-Y_train[I]) * sigmoid_act(y, der=True)\n",
    "    \n",
    "    #2.3: Backpropagate\n",
    "    delta_2 = delta_Out * wOut * ReLU_act(z2, der=True) # Second Layer Error\n",
    "    delta_1 = np.dot(delta_2, w2) * ReLU_act(z1, der=True) # First Layer Error\n",
    "    \n",
    "    # 3: Gradient descent \n",
    "    wOut = wOut - eta*delta_Out*z2  # Outer Layer\n",
    "    bOut = bOut - eta*delta_Out\n",
    "    \n",
    "    w2 = w2 - eta*np.kron(delta_2, z1).reshape(q,p) # Hidden Layer 2\n",
    "    b2 = b2 - eta*delta_2\n",
    "    \n",
    "    w1 = w1 - eta*np.kron(delta_1, x).reshape(p, x.shape[0]) # Hidden Layer 1\n",
    "    b1 = b1 - eta*delta_1\n",
    "    \n",
    "    # 4. Computation of the loss function\n",
    "    mu.append((1/2)*(y-Y_train[I])**2)\n",
    "    vec_y.append(y[0])\n"
   ]
  },
  {
   "cell_type": "code",
   "execution_count": 9,
   "id": "b7cd994f",
   "metadata": {},
   "outputs": [
    {
     "data": {
      "image/png": "[encoded data removed]",
      "text/plain": [
       "<Figure size 1000x600 with 1 Axes>"
      ]
     },
     "metadata": {},
     "output_type": "display_data"
    }
   ],
   "source": [
    "# Plotting the Cost function for each training data     \n",
    "plt.figure(figsize=(10,6))\n",
    "plt.scatter(np.arange(0, X_train.shape[0]), mu, alpha=0.3, s=4, label='mu')\n",
    "plt.title('Loss for each training data point', fontsize=20)\n",
    "plt.xlabel('Training data', fontsize=16)\n",
    "plt.ylabel('Loss', fontsize=16)\n",
    "plt.legend()\n",
    "plt.show()\n",
    "\n",
    "# Plotting the average cost function over 10 training data    \n",
    "pino = []\n",
    "for i in range(0, 9):\n",
    "    pippo = 0\n",
    "    for m in range(0, 59):\n",
    "        pippo+=vec_y[60*i+m]/60\n",
    "    pino.append(pippo)"
   ]
  },
  {
   "cell_type": "code",
   "execution_count": 10,
   "id": "717471bb",
   "metadata": {},
   "outputs": [
    {
     "data": {
      "image/png": "[encoded data removed]",
      "text/plain": [
       "<Figure size 1000x600 with 1 Axes>"
      ]
     },
     "metadata": {},
     "output_type": "display_data"
    }
   ],
   "source": [
    "plt.figure(figsize=(10,6))\n",
    "plt.scatter(np.arange(0, 9), pino, alpha=1, s=10, label='error')\n",
    "plt.title('Averege Loss by epoch', fontsize=20)\n",
    "plt.xlabel('Epoch', fontsize=16)\n",
    "plt.ylabel('Loss', fontsize=16)\n",
    "plt.legend()\n",
    "plt.show()"
   ]
  },
  {
   "cell_type": "code",
   "execution_count": 11,
   "id": "ca5efa4d",
   "metadata": {},
   "outputs": [],
   "source": [
    "def ANN_train(X_train, Y_train, p=4, q=4, eta=0.0015):\n",
    "    import numpy as np\n",
    "    import matplotlib.pyplot as plt\n",
    "    \n",
    "    # 0: Random initialize the relevant data \n",
    "    w1 = 2*np.random.rand(p , X_train.shape[1]) - 0.5 # Layer 1\n",
    "    b1 = np.random.rand(p)\n",
    "\n",
    "    w2 = 2*np.random.rand(q , p) - 0.5  # Layer 2\n",
    "    b2 = np.random.rand(q)\n",
    "\n",
    "    wOut = 2*np.random.rand(q) - 0.5   # Output Layer\n",
    "    bOut = np.random.rand(1)\n",
    "\n",
    "    mu = []\n",
    "    vec_y = []\n",
    "\n",
    "    # Start looping over the passengers, i.e. over I.\n",
    "    \n",
    "    for I in range(0, X_train.shape[0]-1): #loop in all the passengers:\n",
    "    \n",
    "        # 1: input the data \n",
    "        x = X_train[I]\n",
    "    \n",
    "        # 2: Start the algorithm\n",
    "    \n",
    "        # 2.1: Feed forward\n",
    "        z1 = ReLU_act(np.dot(w1, x) + b1) # output layer 1 \n",
    "        z2 = ReLU_act(np.dot(w2, z1) + b2) # output layer 2\n",
    "        y = sigmoid_act(np.dot(wOut, z2) + bOut) # Output of the Output layer\n",
    "    \n",
    "        #2.2: Compute the output layer's error\n",
    "        delta_Out = 2 * (y-Y_train[I]) * sigmoid_act(y, der=True)\n",
    "    \n",
    "        #2.3: Backpropagate\n",
    "        delta_2 = delta_Out * wOut * ReLU_act(z2, der=True) # Second Layer Error\n",
    "        delta_1 = np.dot(delta_2, w2) * ReLU_act(z1, der=True) # First Layer Error\n",
    "    \n",
    "        # 3: Gradient descent \n",
    "        wOut = wOut - eta*delta_Out*z2  # Outer Layer\n",
    "        bOut = bOut - eta*delta_Out\n",
    "    \n",
    "        w2 = w2 - eta*np.kron(delta_2, z1).reshape(q,p) # Hidden Layer 2\n",
    "        b2 = b2 -  eta*delta_2\n",
    "    \n",
    "        w1 = w1 - eta*np.kron(delta_1, x).reshape(p, x.shape[0])\n",
    "        b1 = b1 - eta*delta_1\n",
    "    \n",
    "        # 4. Computation of the loss function\n",
    "        mu.append((y-Y_train[I])**2)\n",
    "        vec_y.append(y)\n",
    "    \n",
    "    batch_loss = []\n",
    "    for i in range(0, 10):\n",
    "        loss_avg = 0\n",
    "        for m in range(0, 60):\n",
    "            loss_avg+=vec_y[60*i+m]/60\n",
    "        batch_loss.append(loss_avg)\n",
    "    \n",
    "    plt.figure(figsize=(10,6))\n",
    "    plt.scatter(np.arange(1, len(batch_loss)+1), batch_loss, alpha=1, s=10, label='error')\n",
    "    plt.title('Averege Loss by epoch', fontsize=20)\n",
    "    plt.xlabel('Epoch', fontsize=16)\n",
    "    plt.ylabel('Loss', fontsize=16)\n",
    "    plt.show()\n",
    "    \n",
    "    return w1, b1, w2, b2, wOut, bOut, mu"
   ]
  },
  {
   "cell_type": "code",
   "execution_count": 12,
   "id": "580c8b61",
   "metadata": {},
   "outputs": [
    {
     "data": {
      "image/png": "[encoded data removed]",
      "text/plain": [
       "<Figure size 1000x600 with 1 Axes>"
      ]
     },
     "metadata": {},
     "output_type": "display_data"
    }
   ],
   "source": [
    "w1, b1, w2, b2, wOut, bOut, mu = ANN_train(X_train, Y_train, p=8, q=4, eta=0.0015)"
   ]
  },
  {
   "cell_type": "code",
   "execution_count": 13,
   "id": "a9cee6ce",
   "metadata": {},
   "outputs": [],
   "source": [
    "def ANN_pred(X_test, w1, b1, w2, b2, wOut, bOut, mu):\n",
    "    import numpy as np\n",
    "    \n",
    "    pred = []\n",
    "    \n",
    "    for I in range(0, X_test.shape[0]): #loop in all the passengers\n",
    "        # 1: input the data \n",
    "        x = X_test[I]\n",
    "        \n",
    "        # 2.1: Feed forward\n",
    "        z1 = ReLU_act(np.dot(w1, x) + b1) # output layer 1 \n",
    "        z2 = ReLU_act(np.dot(w2, z1) + b2) # output layer 2\n",
    "        y = sigmoid_act(np.dot(wOut, z2) + bOut)  # Output of the Output layer\n",
    "        \n",
    "        # Append the prediction;\n",
    "        # We now need a binary classifier; we this apply an Heaviside Theta and we set to 0.5 the threshold\n",
    "        # if y < 0.5 the output is zero, otherwise is 1\n",
    "        pred.append( np.heaviside(y - 0.5, 1)[0] )\n",
    "    \n",
    "    \n",
    "    return np.array(pred);"
   ]
  },
  {
   "cell_type": "code",
   "execution_count": 14,
   "id": "1f71f4cf",
   "metadata": {},
   "outputs": [
    {
     "data": {
      "text/plain": [
       "array([1., 1., 1., 0., 1., 1., 1., 1.])"
      ]
     },
     "execution_count": 14,
     "metadata": {},
     "output_type": "execute_result"
    }
   ],
   "source": [
    "predictions = ANN_pred(X_test, w1, b1, w2, b2, wOut, bOut, mu)\n",
    "predictions"
   ]
  },
  {
   "cell_type": "code",
   "execution_count": 15,
   "id": "1b7ab487",
   "metadata": {},
   "outputs": [],
   "source": [
    "from sklearn.model_selection import train_test_split\n",
    "from sklearn.naive_bayes import GaussianNB"
   ]
  },
  {
   "cell_type": "markdown",
   "id": "70835e50",
   "metadata": {},
   "source": [
    "<b>CategoricalNB</b> implements the <u>categorical naive Bayes algorithm</u> for categorically distributed data. It assumes that each feature, which is described by the index, has its own categorical distribution.\n",
    "\n",
    "For each feature $i$ in the training set $X$ , <b>CategoricalNB</b>  estimates a categorical distribution for each feature $i$ of $X$ conditioned on the class $y$. The index set of the samples is defined as,$ J={\\{1,...,m\\}} $ with as the number of samples.\n",
    "\n",
    "The probability of category in feature given class is estimated as:\n",
    "\n",
    "$  P (x _\\mathbf{i} = t | y = c; \\alpha) $= $ $$\\LARGE\\frac{N _\\mathbf{tic}+ \\alpha}{N _\\mathbf{c}+ \\alpha n _\\mathbf{i}} $\n",
    "\n",
    "where $ N _\\mathbf{tic} = |\\{ j \\in J | x _\\mathbf{ij} =t, y _\\mathbf{j} = c\\} |  $ is the number of $t$ times category appears in the samples $ x _\\mathbf{i}$, which belong to class $ c $,$ N _\\mathbf{c} =|\\{ j \\in J | y _\\mathbf{j} = c \\} | $ is the number of samples with class c,$ \\alpha $ is a smoothing parameter and $ n _\\mathbf{i}$ is the number of available categories of feature $i$.\n",
    "\n",
    "<b>CategoricalNB</b> assumes that the sample matrix $X$ is encoded (for instance with the help of `OrdinalEncoder`) such that all categories for each feature $i$ are represented with numbers $ 0,...,$$ n _\\mathbf{i}$$-1$ where $n _\\mathbf{i}$ is the number of available categories of feature $i$."
   ]
  },
  {
   "cell_type": "markdown",
   "id": "d1d483d1",
   "metadata": {},
   "source": [
    "<b>MultinomialNB</b> implements the naive Bayes algorithm for multinomially distributed data, and is one of the two classic naive Bayes variants used in text classification (where the data are typically represented as word vector counts, although tf-idf vectors are also known to work well in practice). The distribution is parametrized by vectors $ \\theta _\\mathbf{y} = (\\theta _\\mathbf{y1},....,\\theta _\\mathbf{yn})$for each class $y$ , where $n$ is the number of features (in text classification, the size of the vocabulary) and $\\theta _\\mathbf{y1} $ is the probability $P(x _\\mathbf{i} \\mid y)$ of feature $i$ appearing in a sample $y$ belonging to class $y$.\n",
    "\n",
    "The parameters $\\theta _\\mathbf{y} $ is estimated by a smoothed version of maximum likelihood, i.e. relative frequency counting:\n",
    "\n",
    "$ \\hat{\\theta _\\mathbf{yi}}$= $ $$ \\LARGE\\frac{N _\\mathbf{yi}+ \\alpha}{N _\\mathbf{y}+ \\alpha n} $ \n",
    "\n",
    "where  $ N _\\mathbf{yi} = \\sum_{x \\in T} x _\\mathbf{i}$ is the number of times feature $i$ appears in a sample of class $y$ in the training set T, and $N _\\mathbf{y}=\\sum_{i=1}^{n} N _\\mathbf{yi}$ is the total count of all features for class $y$.\n",
    "\n",
    "The smoothing priors $\\alpha \\ge 0 $ accounts for features not present in the learning samples and prevents zero probabilities in further computations. Setting $ \\alpha = 1$ is called Laplace smoothing, while $ \\alpha < 0$ is called Lidstone smoothing."
   ]
  },
  {
   "cell_type": "code",
   "execution_count": 17,
   "id": "186fc140",
   "metadata": {},
   "outputs": [
    {
     "ename": "ValueError",
     "evalue": "Found input variables with inconsistent numbers of samples: [792, 600]",
     "output_type": "error",
     "traceback": [
      "\u001b[1;31m---------------------------------------------------------------------------\u001b[0m",
      "\u001b[1;31mValueError\u001b[0m                                Traceback (most recent call last)",
      "Cell \u001b[1;32mIn[17], line 2\u001b[0m\n\u001b[0;32m      1\u001b[0m \u001b[38;5;28;01mfrom\u001b[39;00m \u001b[38;5;21;01msklearn\u001b[39;00m\u001b[38;5;21;01m.\u001b[39;00m\u001b[38;5;21;01mnaive_bayes\u001b[39;00m \u001b[38;5;28;01mimport\u001b[39;00m MultinomialNB\n\u001b[1;32m----> 2\u001b[0m model \u001b[38;5;241m=\u001b[39m \u001b[43mMultinomialNB\u001b[49m\u001b[43m(\u001b[49m\u001b[43m)\u001b[49m\u001b[38;5;241;43m.\u001b[39;49m\u001b[43mfit\u001b[49m\u001b[43m(\u001b[49m\u001b[43mX_train\u001b[49m\u001b[43m,\u001b[49m\u001b[43m \u001b[49m\u001b[43my_train\u001b[49m\u001b[43m)\u001b[49m\n\u001b[0;32m      3\u001b[0m \u001b[38;5;28;01mimport\u001b[39;00m \u001b[38;5;21;01mnumpy\u001b[39;00m \u001b[38;5;28;01mas\u001b[39;00m \u001b[38;5;21;01mnp\u001b[39;00m\n\u001b[0;32m      4\u001b[0m predicted \u001b[38;5;241m=\u001b[39m model\u001b[38;5;241m.\u001b[39mpredict(X_test)\n",
      "File \u001b[1;32mC:\\ProgramData\\anaconda3\\lib\\site-packages\\sklearn\\naive_bayes.py:749\u001b[0m, in \u001b[0;36m_BaseDiscreteNB.fit\u001b[1;34m(self, X, y, sample_weight)\u001b[0m\n\u001b[0;32m    729\u001b[0m \u001b[38;5;124;03m\"\"\"Fit Naive Bayes classifier according to X, y.\u001b[39;00m\n\u001b[0;32m    730\u001b[0m \n\u001b[0;32m    731\u001b[0m \u001b[38;5;124;03mParameters\u001b[39;00m\n\u001b[1;32m   (...)\u001b[0m\n\u001b[0;32m    746\u001b[0m \u001b[38;5;124;03m    Returns the instance itself.\u001b[39;00m\n\u001b[0;32m    747\u001b[0m \u001b[38;5;124;03m\"\"\"\u001b[39;00m\n\u001b[0;32m    748\u001b[0m \u001b[38;5;28mself\u001b[39m\u001b[38;5;241m.\u001b[39m_validate_params()\n\u001b[1;32m--> 749\u001b[0m X, y \u001b[38;5;241m=\u001b[39m \u001b[38;5;28;43mself\u001b[39;49m\u001b[38;5;241;43m.\u001b[39;49m\u001b[43m_check_X_y\u001b[49m\u001b[43m(\u001b[49m\u001b[43mX\u001b[49m\u001b[43m,\u001b[49m\u001b[43m \u001b[49m\u001b[43my\u001b[49m\u001b[43m)\u001b[49m\n\u001b[0;32m    750\u001b[0m _, n_features \u001b[38;5;241m=\u001b[39m X\u001b[38;5;241m.\u001b[39mshape\n\u001b[0;32m    752\u001b[0m labelbin \u001b[38;5;241m=\u001b[39m LabelBinarizer()\n",
      "File \u001b[1;32mC:\\ProgramData\\anaconda3\\lib\\site-packages\\sklearn\\naive_bayes.py:583\u001b[0m, in \u001b[0;36m_BaseDiscreteNB._check_X_y\u001b[1;34m(self, X, y, reset)\u001b[0m\n\u001b[0;32m    581\u001b[0m \u001b[38;5;28;01mdef\u001b[39;00m \u001b[38;5;21m_check_X_y\u001b[39m(\u001b[38;5;28mself\u001b[39m, X, y, reset\u001b[38;5;241m=\u001b[39m\u001b[38;5;28;01mTrue\u001b[39;00m):\n\u001b[0;32m    582\u001b[0m     \u001b[38;5;124;03m\"\"\"Validate X and y in fit methods.\"\"\"\u001b[39;00m\n\u001b[1;32m--> 583\u001b[0m     \u001b[38;5;28;01mreturn\u001b[39;00m \u001b[38;5;28;43mself\u001b[39;49m\u001b[38;5;241;43m.\u001b[39;49m\u001b[43m_validate_data\u001b[49m\u001b[43m(\u001b[49m\u001b[43mX\u001b[49m\u001b[43m,\u001b[49m\u001b[43m \u001b[49m\u001b[43my\u001b[49m\u001b[43m,\u001b[49m\u001b[43m \u001b[49m\u001b[43maccept_sparse\u001b[49m\u001b[38;5;241;43m=\u001b[39;49m\u001b[38;5;124;43m\"\u001b[39;49m\u001b[38;5;124;43mcsr\u001b[39;49m\u001b[38;5;124;43m\"\u001b[39;49m\u001b[43m,\u001b[49m\u001b[43m \u001b[49m\u001b[43mreset\u001b[49m\u001b[38;5;241;43m=\u001b[39;49m\u001b[43mreset\u001b[49m\u001b[43m)\u001b[49m\n",
      "File \u001b[1;32mC:\\ProgramData\\anaconda3\\lib\\site-packages\\sklearn\\base.py:565\u001b[0m, in \u001b[0;36mBaseEstimator._validate_data\u001b[1;34m(self, X, y, reset, validate_separately, **check_params)\u001b[0m\n\u001b[0;32m    563\u001b[0m         y \u001b[38;5;241m=\u001b[39m check_array(y, input_name\u001b[38;5;241m=\u001b[39m\u001b[38;5;124m\"\u001b[39m\u001b[38;5;124my\u001b[39m\u001b[38;5;124m\"\u001b[39m, \u001b[38;5;241m*\u001b[39m\u001b[38;5;241m*\u001b[39mcheck_y_params)\n\u001b[0;32m    564\u001b[0m     \u001b[38;5;28;01melse\u001b[39;00m:\n\u001b[1;32m--> 565\u001b[0m         X, y \u001b[38;5;241m=\u001b[39m check_X_y(X, y, \u001b[38;5;241m*\u001b[39m\u001b[38;5;241m*\u001b[39mcheck_params)\n\u001b[0;32m    566\u001b[0m     out \u001b[38;5;241m=\u001b[39m X, y\n\u001b[0;32m    568\u001b[0m \u001b[38;5;28;01mif\u001b[39;00m \u001b[38;5;129;01mnot\u001b[39;00m no_val_X \u001b[38;5;129;01mand\u001b[39;00m check_params\u001b[38;5;241m.\u001b[39mget(\u001b[38;5;124m\"\u001b[39m\u001b[38;5;124mensure_2d\u001b[39m\u001b[38;5;124m\"\u001b[39m, \u001b[38;5;28;01mTrue\u001b[39;00m):\n",
      "File \u001b[1;32mC:\\ProgramData\\anaconda3\\lib\\site-packages\\sklearn\\utils\\validation.py:1124\u001b[0m, in \u001b[0;36mcheck_X_y\u001b[1;34m(X, y, accept_sparse, accept_large_sparse, dtype, order, copy, force_all_finite, ensure_2d, allow_nd, multi_output, ensure_min_samples, ensure_min_features, y_numeric, estimator)\u001b[0m\n\u001b[0;32m   1106\u001b[0m X \u001b[38;5;241m=\u001b[39m check_array(\n\u001b[0;32m   1107\u001b[0m     X,\n\u001b[0;32m   1108\u001b[0m     accept_sparse\u001b[38;5;241m=\u001b[39maccept_sparse,\n\u001b[1;32m   (...)\u001b[0m\n\u001b[0;32m   1119\u001b[0m     input_name\u001b[38;5;241m=\u001b[39m\u001b[38;5;124m\"\u001b[39m\u001b[38;5;124mX\u001b[39m\u001b[38;5;124m\"\u001b[39m,\n\u001b[0;32m   1120\u001b[0m )\n\u001b[0;32m   1122\u001b[0m y \u001b[38;5;241m=\u001b[39m _check_y(y, multi_output\u001b[38;5;241m=\u001b[39mmulti_output, y_numeric\u001b[38;5;241m=\u001b[39my_numeric, estimator\u001b[38;5;241m=\u001b[39mestimator)\n\u001b[1;32m-> 1124\u001b[0m \u001b[43mcheck_consistent_length\u001b[49m\u001b[43m(\u001b[49m\u001b[43mX\u001b[49m\u001b[43m,\u001b[49m\u001b[43m \u001b[49m\u001b[43my\u001b[49m\u001b[43m)\u001b[49m\n\u001b[0;32m   1126\u001b[0m \u001b[38;5;28;01mreturn\u001b[39;00m X, y\n",
      "File \u001b[1;32mC:\\ProgramData\\anaconda3\\lib\\site-packages\\sklearn\\utils\\validation.py:397\u001b[0m, in \u001b[0;36mcheck_consistent_length\u001b[1;34m(*arrays)\u001b[0m\n\u001b[0;32m    395\u001b[0m uniques \u001b[38;5;241m=\u001b[39m np\u001b[38;5;241m.\u001b[39munique(lengths)\n\u001b[0;32m    396\u001b[0m \u001b[38;5;28;01mif\u001b[39;00m \u001b[38;5;28mlen\u001b[39m(uniques) \u001b[38;5;241m>\u001b[39m \u001b[38;5;241m1\u001b[39m:\n\u001b[1;32m--> 397\u001b[0m     \u001b[38;5;28;01mraise\u001b[39;00m \u001b[38;5;167;01mValueError\u001b[39;00m(\n\u001b[0;32m    398\u001b[0m         \u001b[38;5;124m\"\u001b[39m\u001b[38;5;124mFound input variables with inconsistent numbers of samples: \u001b[39m\u001b[38;5;132;01m%r\u001b[39;00m\u001b[38;5;124m\"\u001b[39m\n\u001b[0;32m    399\u001b[0m         \u001b[38;5;241m%\u001b[39m [\u001b[38;5;28mint\u001b[39m(l) \u001b[38;5;28;01mfor\u001b[39;00m l \u001b[38;5;129;01min\u001b[39;00m lengths]\n\u001b[0;32m    400\u001b[0m     )\n",
      "\u001b[1;31mValueError\u001b[0m: Found input variables with inconsistent numbers of samples: [792, 600]"
     ]
    }
   ],
   "source": [
    "from sklearn.naive_bayes import MultinomialNB\n",
    "model = MultinomialNB().fit(X_train, y_train)\n",
    "import numpy as np\n",
    "predicted = model.predict(X_test)\n",
    "print(np.mean(predicted == y_test))\n",
    "from sklearn.metrics import confusion_matrix\n",
    "print(confusion_matrix(y_test, predicted))"
   ]
  },
  {
   "cell_type": "code",
   "execution_count": 18,
   "id": "a5727a2c",
   "metadata": {},
   "outputs": [
    {
     "data": {
      "text/plain": [
       "<matplotlib.collections.PathCollection at 0x149765f0e80>"
      ]
     },
     "execution_count": 18,
     "metadata": {},
     "output_type": "execute_result"
    },
    {
     "data": {
      "image/png": "[encoded data removed]",
      "text/plain": [
       "<Figure size 640x480 with 1 Axes>"
      ]
     },
     "metadata": {},
     "output_type": "display_data"
    }
   ],
   "source": [
    "import matplotlib.pyplot as plt\n",
    "\n",
    "plt.scatter(X_train[:,0], X_train[:,1], c='C1', marker=\"*\", label='Training data')"
   ]
  },
  {
   "cell_type": "code",
   "execution_count": 19,
   "id": "020de6ca",
   "metadata": {},
   "outputs": [
    {
     "ename": "ValueError",
     "evalue": "x and y must be the same size",
     "output_type": "error",
     "traceback": [
      "\u001b[1;31m---------------------------------------------------------------------------\u001b[0m",
      "\u001b[1;31mValueError\u001b[0m                                Traceback (most recent call last)",
      "Cell \u001b[1;32mIn[19], line 1\u001b[0m\n\u001b[1;32m----> 1\u001b[0m \u001b[43mplt\u001b[49m\u001b[38;5;241;43m.\u001b[39;49m\u001b[43mscatter\u001b[49m\u001b[43m(\u001b[49m\u001b[43mX_train\u001b[49m\u001b[43m[\u001b[49m\u001b[43m:\u001b[49m\u001b[43m,\u001b[49m\u001b[38;5;241;43m0\u001b[39;49m\u001b[43m]\u001b[49m\u001b[43m,\u001b[49m\u001b[43m \u001b[49m\u001b[43my_train\u001b[49m\u001b[43m,\u001b[49m\u001b[43m \u001b[49m\u001b[43mc\u001b[49m\u001b[38;5;241;43m=\u001b[39;49m\u001b[38;5;124;43m'\u001b[39;49m\u001b[38;5;124;43mC1\u001b[39;49m\u001b[38;5;124;43m'\u001b[39;49m\u001b[43m,\u001b[49m\u001b[43m \u001b[49m\u001b[43mmarker\u001b[49m\u001b[38;5;241;43m=\u001b[39;49m\u001b[38;5;124;43m\"\u001b[39;49m\u001b[38;5;124;43m*\u001b[39;49m\u001b[38;5;124;43m\"\u001b[39;49m\u001b[43m,\u001b[49m\u001b[43m \u001b[49m\u001b[43mlabel\u001b[49m\u001b[38;5;241;43m=\u001b[39;49m\u001b[38;5;124;43m'\u001b[39;49m\u001b[38;5;124;43mTraining data\u001b[39;49m\u001b[38;5;124;43m'\u001b[39;49m\u001b[43m)\u001b[49m\n",
      "File \u001b[1;32mC:\\ProgramData\\anaconda3\\lib\\site-packages\\matplotlib\\pyplot.py:2835\u001b[0m, in \u001b[0;36mscatter\u001b[1;34m(x, y, s, c, marker, cmap, norm, vmin, vmax, alpha, linewidths, edgecolors, plotnonfinite, data, **kwargs)\u001b[0m\n\u001b[0;32m   2830\u001b[0m \u001b[38;5;129m@_copy_docstring_and_deprecators\u001b[39m(Axes\u001b[38;5;241m.\u001b[39mscatter)\n\u001b[0;32m   2831\u001b[0m \u001b[38;5;28;01mdef\u001b[39;00m \u001b[38;5;21mscatter\u001b[39m(\n\u001b[0;32m   2832\u001b[0m         x, y, s\u001b[38;5;241m=\u001b[39m\u001b[38;5;28;01mNone\u001b[39;00m, c\u001b[38;5;241m=\u001b[39m\u001b[38;5;28;01mNone\u001b[39;00m, marker\u001b[38;5;241m=\u001b[39m\u001b[38;5;28;01mNone\u001b[39;00m, cmap\u001b[38;5;241m=\u001b[39m\u001b[38;5;28;01mNone\u001b[39;00m, norm\u001b[38;5;241m=\u001b[39m\u001b[38;5;28;01mNone\u001b[39;00m,\n\u001b[0;32m   2833\u001b[0m         vmin\u001b[38;5;241m=\u001b[39m\u001b[38;5;28;01mNone\u001b[39;00m, vmax\u001b[38;5;241m=\u001b[39m\u001b[38;5;28;01mNone\u001b[39;00m, alpha\u001b[38;5;241m=\u001b[39m\u001b[38;5;28;01mNone\u001b[39;00m, linewidths\u001b[38;5;241m=\u001b[39m\u001b[38;5;28;01mNone\u001b[39;00m, \u001b[38;5;241m*\u001b[39m,\n\u001b[0;32m   2834\u001b[0m         edgecolors\u001b[38;5;241m=\u001b[39m\u001b[38;5;28;01mNone\u001b[39;00m, plotnonfinite\u001b[38;5;241m=\u001b[39m\u001b[38;5;28;01mFalse\u001b[39;00m, data\u001b[38;5;241m=\u001b[39m\u001b[38;5;28;01mNone\u001b[39;00m, \u001b[38;5;241m*\u001b[39m\u001b[38;5;241m*\u001b[39mkwargs):\n\u001b[1;32m-> 2835\u001b[0m     __ret \u001b[38;5;241m=\u001b[39m gca()\u001b[38;5;241m.\u001b[39mscatter(\n\u001b[0;32m   2836\u001b[0m         x, y, s\u001b[38;5;241m=\u001b[39ms, c\u001b[38;5;241m=\u001b[39mc, marker\u001b[38;5;241m=\u001b[39mmarker, cmap\u001b[38;5;241m=\u001b[39mcmap, norm\u001b[38;5;241m=\u001b[39mnorm,\n\u001b[0;32m   2837\u001b[0m         vmin\u001b[38;5;241m=\u001b[39mvmin, vmax\u001b[38;5;241m=\u001b[39mvmax, alpha\u001b[38;5;241m=\u001b[39malpha, linewidths\u001b[38;5;241m=\u001b[39mlinewidths,\n\u001b[0;32m   2838\u001b[0m         edgecolors\u001b[38;5;241m=\u001b[39medgecolors, plotnonfinite\u001b[38;5;241m=\u001b[39mplotnonfinite,\n\u001b[0;32m   2839\u001b[0m         \u001b[38;5;241m*\u001b[39m\u001b[38;5;241m*\u001b[39m({\u001b[38;5;124m\"\u001b[39m\u001b[38;5;124mdata\u001b[39m\u001b[38;5;124m\"\u001b[39m: data} \u001b[38;5;28;01mif\u001b[39;00m data \u001b[38;5;129;01mis\u001b[39;00m \u001b[38;5;129;01mnot\u001b[39;00m \u001b[38;5;28;01mNone\u001b[39;00m \u001b[38;5;28;01melse\u001b[39;00m {}), \u001b[38;5;241m*\u001b[39m\u001b[38;5;241m*\u001b[39mkwargs)\n\u001b[0;32m   2840\u001b[0m     sci(__ret)\n\u001b[0;32m   2841\u001b[0m     \u001b[38;5;28;01mreturn\u001b[39;00m __ret\n",
      "File \u001b[1;32mC:\\ProgramData\\anaconda3\\lib\\site-packages\\matplotlib\\__init__.py:1442\u001b[0m, in \u001b[0;36m_preprocess_data.<locals>.inner\u001b[1;34m(ax, data, *args, **kwargs)\u001b[0m\n\u001b[0;32m   1439\u001b[0m \u001b[38;5;129m@functools\u001b[39m\u001b[38;5;241m.\u001b[39mwraps(func)\n\u001b[0;32m   1440\u001b[0m \u001b[38;5;28;01mdef\u001b[39;00m \u001b[38;5;21minner\u001b[39m(ax, \u001b[38;5;241m*\u001b[39margs, data\u001b[38;5;241m=\u001b[39m\u001b[38;5;28;01mNone\u001b[39;00m, \u001b[38;5;241m*\u001b[39m\u001b[38;5;241m*\u001b[39mkwargs):\n\u001b[0;32m   1441\u001b[0m     \u001b[38;5;28;01mif\u001b[39;00m data \u001b[38;5;129;01mis\u001b[39;00m \u001b[38;5;28;01mNone\u001b[39;00m:\n\u001b[1;32m-> 1442\u001b[0m         \u001b[38;5;28;01mreturn\u001b[39;00m func(ax, \u001b[38;5;241m*\u001b[39m\u001b[38;5;28mmap\u001b[39m(sanitize_sequence, args), \u001b[38;5;241m*\u001b[39m\u001b[38;5;241m*\u001b[39mkwargs)\n\u001b[0;32m   1444\u001b[0m     bound \u001b[38;5;241m=\u001b[39m new_sig\u001b[38;5;241m.\u001b[39mbind(ax, \u001b[38;5;241m*\u001b[39margs, \u001b[38;5;241m*\u001b[39m\u001b[38;5;241m*\u001b[39mkwargs)\n\u001b[0;32m   1445\u001b[0m     auto_label \u001b[38;5;241m=\u001b[39m (bound\u001b[38;5;241m.\u001b[39marguments\u001b[38;5;241m.\u001b[39mget(label_namer)\n\u001b[0;32m   1446\u001b[0m                   \u001b[38;5;129;01mor\u001b[39;00m bound\u001b[38;5;241m.\u001b[39mkwargs\u001b[38;5;241m.\u001b[39mget(label_namer))\n",
      "File \u001b[1;32mC:\\ProgramData\\anaconda3\\lib\\site-packages\\matplotlib\\axes\\_axes.py:4584\u001b[0m, in \u001b[0;36mAxes.scatter\u001b[1;34m(self, x, y, s, c, marker, cmap, norm, vmin, vmax, alpha, linewidths, edgecolors, plotnonfinite, **kwargs)\u001b[0m\n\u001b[0;32m   4582\u001b[0m y \u001b[38;5;241m=\u001b[39m np\u001b[38;5;241m.\u001b[39mma\u001b[38;5;241m.\u001b[39mravel(y)\n\u001b[0;32m   4583\u001b[0m \u001b[38;5;28;01mif\u001b[39;00m x\u001b[38;5;241m.\u001b[39msize \u001b[38;5;241m!=\u001b[39m y\u001b[38;5;241m.\u001b[39msize:\n\u001b[1;32m-> 4584\u001b[0m     \u001b[38;5;28;01mraise\u001b[39;00m \u001b[38;5;167;01mValueError\u001b[39;00m(\u001b[38;5;124m\"\u001b[39m\u001b[38;5;124mx and y must be the same size\u001b[39m\u001b[38;5;124m\"\u001b[39m)\n\u001b[0;32m   4586\u001b[0m \u001b[38;5;28;01mif\u001b[39;00m s \u001b[38;5;129;01mis\u001b[39;00m \u001b[38;5;28;01mNone\u001b[39;00m:\n\u001b[0;32m   4587\u001b[0m     s \u001b[38;5;241m=\u001b[39m (\u001b[38;5;241m20\u001b[39m \u001b[38;5;28;01mif\u001b[39;00m mpl\u001b[38;5;241m.\u001b[39mrcParams[\u001b[38;5;124m'\u001b[39m\u001b[38;5;124m_internal.classic_mode\u001b[39m\u001b[38;5;124m'\u001b[39m] \u001b[38;5;28;01melse\u001b[39;00m\n\u001b[0;32m   4588\u001b[0m          mpl\u001b[38;5;241m.\u001b[39mrcParams[\u001b[38;5;124m'\u001b[39m\u001b[38;5;124mlines.markersize\u001b[39m\u001b[38;5;124m'\u001b[39m] \u001b[38;5;241m*\u001b[39m\u001b[38;5;241m*\u001b[39m \u001b[38;5;241m2.0\u001b[39m)\n",
      "\u001b[1;31mValueError\u001b[0m: x and y must be the same size"
     ]
    },
    {
     "data": {
      "image/png": "[encoded data removed]",
      "text/plain": [
       "<Figure size 640x480 with 1 Axes>"
      ]
     },
     "metadata": {},
     "output_type": "display_data"
    }
   ],
   "source": [
    "plt.scatter(X_train[:,0], y_train, c='C1', marker=\"*\", label='Training data')"
   ]
  },
  {
   "cell_type": "code",
   "execution_count": 20,
   "id": "e77bb69a",
   "metadata": {},
   "outputs": [
    {
     "ename": "ValueError",
     "evalue": "x and y must be the same size",
     "output_type": "error",
     "traceback": [
      "\u001b[1;31m---------------------------------------------------------------------------\u001b[0m",
      "\u001b[1;31mValueError\u001b[0m                                Traceback (most recent call last)",
      "Cell \u001b[1;32mIn[20], line 1\u001b[0m\n\u001b[1;32m----> 1\u001b[0m \u001b[43mplt\u001b[49m\u001b[38;5;241;43m.\u001b[39;49m\u001b[43mscatter\u001b[49m\u001b[43m(\u001b[49m\u001b[43mX_train\u001b[49m\u001b[43m[\u001b[49m\u001b[43m:\u001b[49m\u001b[43m,\u001b[49m\u001b[38;5;241;43m1\u001b[39;49m\u001b[43m]\u001b[49m\u001b[43m,\u001b[49m\u001b[43m \u001b[49m\u001b[43my_train\u001b[49m\u001b[43m,\u001b[49m\u001b[43m \u001b[49m\u001b[43mc\u001b[49m\u001b[38;5;241;43m=\u001b[39;49m\u001b[38;5;124;43m'\u001b[39;49m\u001b[38;5;124;43mC1\u001b[39;49m\u001b[38;5;124;43m'\u001b[39;49m\u001b[43m,\u001b[49m\u001b[43m \u001b[49m\u001b[43mmarker\u001b[49m\u001b[38;5;241;43m=\u001b[39;49m\u001b[38;5;124;43m\"\u001b[39;49m\u001b[38;5;124;43m*\u001b[39;49m\u001b[38;5;124;43m\"\u001b[39;49m\u001b[43m,\u001b[49m\u001b[43m \u001b[49m\u001b[43mlabel\u001b[49m\u001b[38;5;241;43m=\u001b[39;49m\u001b[38;5;124;43m'\u001b[39;49m\u001b[38;5;124;43mTraining data\u001b[39;49m\u001b[38;5;124;43m'\u001b[39;49m\u001b[43m)\u001b[49m\n",
      "File \u001b[1;32mC:\\ProgramData\\anaconda3\\lib\\site-packages\\matplotlib\\pyplot.py:2835\u001b[0m, in \u001b[0;36mscatter\u001b[1;34m(x, y, s, c, marker, cmap, norm, vmin, vmax, alpha, linewidths, edgecolors, plotnonfinite, data, **kwargs)\u001b[0m\n\u001b[0;32m   2830\u001b[0m \u001b[38;5;129m@_copy_docstring_and_deprecators\u001b[39m(Axes\u001b[38;5;241m.\u001b[39mscatter)\n\u001b[0;32m   2831\u001b[0m \u001b[38;5;28;01mdef\u001b[39;00m \u001b[38;5;21mscatter\u001b[39m(\n\u001b[0;32m   2832\u001b[0m         x, y, s\u001b[38;5;241m=\u001b[39m\u001b[38;5;28;01mNone\u001b[39;00m, c\u001b[38;5;241m=\u001b[39m\u001b[38;5;28;01mNone\u001b[39;00m, marker\u001b[38;5;241m=\u001b[39m\u001b[38;5;28;01mNone\u001b[39;00m, cmap\u001b[38;5;241m=\u001b[39m\u001b[38;5;28;01mNone\u001b[39;00m, norm\u001b[38;5;241m=\u001b[39m\u001b[38;5;28;01mNone\u001b[39;00m,\n\u001b[0;32m   2833\u001b[0m         vmin\u001b[38;5;241m=\u001b[39m\u001b[38;5;28;01mNone\u001b[39;00m, vmax\u001b[38;5;241m=\u001b[39m\u001b[38;5;28;01mNone\u001b[39;00m, alpha\u001b[38;5;241m=\u001b[39m\u001b[38;5;28;01mNone\u001b[39;00m, linewidths\u001b[38;5;241m=\u001b[39m\u001b[38;5;28;01mNone\u001b[39;00m, \u001b[38;5;241m*\u001b[39m,\n\u001b[0;32m   2834\u001b[0m         edgecolors\u001b[38;5;241m=\u001b[39m\u001b[38;5;28;01mNone\u001b[39;00m, plotnonfinite\u001b[38;5;241m=\u001b[39m\u001b[38;5;28;01mFalse\u001b[39;00m, data\u001b[38;5;241m=\u001b[39m\u001b[38;5;28;01mNone\u001b[39;00m, \u001b[38;5;241m*\u001b[39m\u001b[38;5;241m*\u001b[39mkwargs):\n\u001b[1;32m-> 2835\u001b[0m     __ret \u001b[38;5;241m=\u001b[39m gca()\u001b[38;5;241m.\u001b[39mscatter(\n\u001b[0;32m   2836\u001b[0m         x, y, s\u001b[38;5;241m=\u001b[39ms, c\u001b[38;5;241m=\u001b[39mc, marker\u001b[38;5;241m=\u001b[39mmarker, cmap\u001b[38;5;241m=\u001b[39mcmap, norm\u001b[38;5;241m=\u001b[39mnorm,\n\u001b[0;32m   2837\u001b[0m         vmin\u001b[38;5;241m=\u001b[39mvmin, vmax\u001b[38;5;241m=\u001b[39mvmax, alpha\u001b[38;5;241m=\u001b[39malpha, linewidths\u001b[38;5;241m=\u001b[39mlinewidths,\n\u001b[0;32m   2838\u001b[0m         edgecolors\u001b[38;5;241m=\u001b[39medgecolors, plotnonfinite\u001b[38;5;241m=\u001b[39mplotnonfinite,\n\u001b[0;32m   2839\u001b[0m         \u001b[38;5;241m*\u001b[39m\u001b[38;5;241m*\u001b[39m({\u001b[38;5;124m\"\u001b[39m\u001b[38;5;124mdata\u001b[39m\u001b[38;5;124m\"\u001b[39m: data} \u001b[38;5;28;01mif\u001b[39;00m data \u001b[38;5;129;01mis\u001b[39;00m \u001b[38;5;129;01mnot\u001b[39;00m \u001b[38;5;28;01mNone\u001b[39;00m \u001b[38;5;28;01melse\u001b[39;00m {}), \u001b[38;5;241m*\u001b[39m\u001b[38;5;241m*\u001b[39mkwargs)\n\u001b[0;32m   2840\u001b[0m     sci(__ret)\n\u001b[0;32m   2841\u001b[0m     \u001b[38;5;28;01mreturn\u001b[39;00m __ret\n",
      "File \u001b[1;32mC:\\ProgramData\\anaconda3\\lib\\site-packages\\matplotlib\\__init__.py:1442\u001b[0m, in \u001b[0;36m_preprocess_data.<locals>.inner\u001b[1;34m(ax, data, *args, **kwargs)\u001b[0m\n\u001b[0;32m   1439\u001b[0m \u001b[38;5;129m@functools\u001b[39m\u001b[38;5;241m.\u001b[39mwraps(func)\n\u001b[0;32m   1440\u001b[0m \u001b[38;5;28;01mdef\u001b[39;00m \u001b[38;5;21minner\u001b[39m(ax, \u001b[38;5;241m*\u001b[39margs, data\u001b[38;5;241m=\u001b[39m\u001b[38;5;28;01mNone\u001b[39;00m, \u001b[38;5;241m*\u001b[39m\u001b[38;5;241m*\u001b[39mkwargs):\n\u001b[0;32m   1441\u001b[0m     \u001b[38;5;28;01mif\u001b[39;00m data \u001b[38;5;129;01mis\u001b[39;00m \u001b[38;5;28;01mNone\u001b[39;00m:\n\u001b[1;32m-> 1442\u001b[0m         \u001b[38;5;28;01mreturn\u001b[39;00m func(ax, \u001b[38;5;241m*\u001b[39m\u001b[38;5;28mmap\u001b[39m(sanitize_sequence, args), \u001b[38;5;241m*\u001b[39m\u001b[38;5;241m*\u001b[39mkwargs)\n\u001b[0;32m   1444\u001b[0m     bound \u001b[38;5;241m=\u001b[39m new_sig\u001b[38;5;241m.\u001b[39mbind(ax, \u001b[38;5;241m*\u001b[39margs, \u001b[38;5;241m*\u001b[39m\u001b[38;5;241m*\u001b[39mkwargs)\n\u001b[0;32m   1445\u001b[0m     auto_label \u001b[38;5;241m=\u001b[39m (bound\u001b[38;5;241m.\u001b[39marguments\u001b[38;5;241m.\u001b[39mget(label_namer)\n\u001b[0;32m   1446\u001b[0m                   \u001b[38;5;129;01mor\u001b[39;00m bound\u001b[38;5;241m.\u001b[39mkwargs\u001b[38;5;241m.\u001b[39mget(label_namer))\n",
      "File \u001b[1;32mC:\\ProgramData\\anaconda3\\lib\\site-packages\\matplotlib\\axes\\_axes.py:4584\u001b[0m, in \u001b[0;36mAxes.scatter\u001b[1;34m(self, x, y, s, c, marker, cmap, norm, vmin, vmax, alpha, linewidths, edgecolors, plotnonfinite, **kwargs)\u001b[0m\n\u001b[0;32m   4582\u001b[0m y \u001b[38;5;241m=\u001b[39m np\u001b[38;5;241m.\u001b[39mma\u001b[38;5;241m.\u001b[39mravel(y)\n\u001b[0;32m   4583\u001b[0m \u001b[38;5;28;01mif\u001b[39;00m x\u001b[38;5;241m.\u001b[39msize \u001b[38;5;241m!=\u001b[39m y\u001b[38;5;241m.\u001b[39msize:\n\u001b[1;32m-> 4584\u001b[0m     \u001b[38;5;28;01mraise\u001b[39;00m \u001b[38;5;167;01mValueError\u001b[39;00m(\u001b[38;5;124m\"\u001b[39m\u001b[38;5;124mx and y must be the same size\u001b[39m\u001b[38;5;124m\"\u001b[39m)\n\u001b[0;32m   4586\u001b[0m \u001b[38;5;28;01mif\u001b[39;00m s \u001b[38;5;129;01mis\u001b[39;00m \u001b[38;5;28;01mNone\u001b[39;00m:\n\u001b[0;32m   4587\u001b[0m     s \u001b[38;5;241m=\u001b[39m (\u001b[38;5;241m20\u001b[39m \u001b[38;5;28;01mif\u001b[39;00m mpl\u001b[38;5;241m.\u001b[39mrcParams[\u001b[38;5;124m'\u001b[39m\u001b[38;5;124m_internal.classic_mode\u001b[39m\u001b[38;5;124m'\u001b[39m] \u001b[38;5;28;01melse\u001b[39;00m\n\u001b[0;32m   4588\u001b[0m          mpl\u001b[38;5;241m.\u001b[39mrcParams[\u001b[38;5;124m'\u001b[39m\u001b[38;5;124mlines.markersize\u001b[39m\u001b[38;5;124m'\u001b[39m] \u001b[38;5;241m*\u001b[39m\u001b[38;5;241m*\u001b[39m \u001b[38;5;241m2.0\u001b[39m)\n",
      "\u001b[1;31mValueError\u001b[0m: x and y must be the same size"
     ]
    },
    {
     "data": {
      "image/png": "[encoded data removed]",
      "text/plain": [
       "<Figure size 640x480 with 1 Axes>"
      ]
     },
     "metadata": {},
     "output_type": "display_data"
    }
   ],
   "source": [
    "plt.scatter(X_train[:,1], y_train, c='C1', marker=\"*\", label='Training data')"
   ]
  },
  {
   "cell_type": "markdown",
   "id": "662115f1",
   "metadata": {},
   "source": [
    "Our model has performed fairly well with default hyperparameters. "
   ]
  },
  {
   "cell_type": "code",
   "execution_count": 21,
   "id": "56abde05",
   "metadata": {},
   "outputs": [
    {
     "ename": "NameError",
     "evalue": "name 'model' is not defined",
     "output_type": "error",
     "traceback": [
      "\u001b[1;31m---------------------------------------------------------------------------\u001b[0m",
      "\u001b[1;31mNameError\u001b[0m                                 Traceback (most recent call last)",
      "Cell \u001b[1;32mIn[21], line 9\u001b[0m\n\u001b[0;32m      1\u001b[0m \u001b[38;5;28;01mfrom\u001b[39;00m \u001b[38;5;21;01msklearn\u001b[39;00m\u001b[38;5;21;01m.\u001b[39;00m\u001b[38;5;21;01mmetrics\u001b[39;00m \u001b[38;5;28;01mimport\u001b[39;00m (\n\u001b[0;32m      2\u001b[0m     accuracy_score,\n\u001b[0;32m      3\u001b[0m     confusion_matrix,\n\u001b[1;32m   (...)\u001b[0m\n\u001b[0;32m      6\u001b[0m     classification_report,\n\u001b[0;32m      7\u001b[0m )\n\u001b[1;32m----> 9\u001b[0m y_pred \u001b[38;5;241m=\u001b[39m \u001b[43mmodel\u001b[49m\u001b[38;5;241m.\u001b[39mpredict(X_test)\n\u001b[0;32m     11\u001b[0m accuray \u001b[38;5;241m=\u001b[39m accuracy_score(y_pred, y_test)\n\u001b[0;32m     12\u001b[0m f1 \u001b[38;5;241m=\u001b[39m f1_score(y_pred, y_test, average\u001b[38;5;241m=\u001b[39m\u001b[38;5;124m\"\u001b[39m\u001b[38;5;124mweighted\u001b[39m\u001b[38;5;124m\"\u001b[39m)\n",
      "\u001b[1;31mNameError\u001b[0m: name 'model' is not defined"
     ]
    }
   ],
   "source": [
    "from sklearn.metrics import (\n",
    "    accuracy_score,\n",
    "    confusion_matrix,\n",
    "    ConfusionMatrixDisplay,\n",
    "    f1_score,\n",
    "    classification_report,\n",
    ")\n",
    "\n",
    "y_pred = model.predict(X_test)\n",
    "\n",
    "accuray = accuracy_score(y_pred, y_test)\n",
    "f1 = f1_score(y_pred, y_test, average=\"weighted\")\n",
    "\n",
    "print(\"Accuracy:\", accuray)\n",
    "print(\"F1 Score:\", f1)"
   ]
  },
  {
   "cell_type": "markdown",
   "id": "af32fdd3",
   "metadata": {},
   "source": [
    "To visualize the Confusion matrix, we will use `confusion_matrix` to calculate the true positives and true negatives and `ConfusionMatrixDisplay` to display the confusion matrix with the labels."
   ]
  },
  {
   "cell_type": "code",
   "execution_count": null,
   "id": "f6fab902",
   "metadata": {},
   "outputs": [],
   "source": [
    "labels = [0,1,2]\n",
    "cm = confusion_matrix(y_test, y_pred, labels=labels)\n",
    "disp = ConfusionMatrixDisplay(confusion_matrix=cm, display_labels=labels)\n",
    "disp.plot()"
   ]
  },
  {
   "cell_type": "markdown",
   "id": "46103997",
   "metadata": {},
   "source": [
    "Our model has performed quite well, and we can improve model performance by scaling, preprocessing cross-validations, and hyperparameter optimization. "
   ]
  },
  {
   "cell_type": "code",
   "execution_count": null,
   "id": "2fdf10aa",
   "metadata": {},
   "outputs": [],
   "source": [
    "import numpy as np \n",
    "import pandas as pd\n",
    "#Sklearn Gaussian Naive Bayes Model\n",
    "from sklearn.naive_bayes import GaussianNB\n",
    "nb = GaussianNB()\n",
    "nb.fit(X_train, y_train)\n",
    "GaussianNB()\n",
    "#Accuracy\n",
    "print(\"Naive Bayes score: \",nb.score(X_test, y_test))"
   ]
  },
  {
   "cell_type": "code",
   "execution_count": null,
   "id": "11feb91b",
   "metadata": {},
   "outputs": [],
   "source": [
    "from sklearn.model_selection import train_test_split,GridSearchCV\n",
    "import matplotlib.pyplot as plt\n",
    "import seaborn as sns\n",
    "sns.set_style(\"whitegrid\")\n",
    "import warnings\n",
    "warnings.filterwarnings(\"ignore\")\n",
    "import scipy.stats as stats"
   ]
  },
  {
   "cell_type": "code",
   "execution_count": null,
   "id": "addfb093",
   "metadata": {},
   "outputs": [],
   "source": [
    "def univariateAnalysis_numeric1(column,nbins):\n",
    "    print(\"\\nDescription of \" + column)\n",
    "    print(\"----------------------------------------------------------------------------\")\n",
    "    print(data[column].describe(),end=' ')\n",
    "\n",
    "    print(\"\\nCentral values of \" + column)\n",
    "    print(\"----------------------------------------------------------------------------\")\n",
    "    #Central values \n",
    "    print('\\nMinimum : ', data[column].min(),end=' ')\n",
    "    print('\\nMaximum : ', data[column].max(),end=' ')\n",
    "    print('\\nMean value : ', data[column].mean(),end=' ')\n",
    "    print('\\nMedian value : ', data[column].median(),end=' ')\n",
    "    print('\\nStandard deviation : ', data[column].std(),end=' ')\n",
    "    print('\\nNull values : ', data[column].isnull().any(),end=' ')\n",
    "    print('\\nNull values : ', data[column].isnull().sum().sum(),end=' ')\n",
    "\n",
    "    print(\"\\nQuartile of \" + column)\n",
    "    #Quartiles\n",
    "    Q1=data[column].quantile(q=0.25)\n",
    "    Q3=data[column].quantile(q=0.75)\n",
    "    print('1st Quartile (Q1) is: ', Q1)\n",
    "    print('3st Quartile (Q3) is: ', Q3)\n",
    "    print('Interquartile range (IQR) is ', stats.iqr(data[column]))\n",
    "\n",
    "    print(\"\\nOutlier detection from Interquartile range (IQR) \" + column)\n",
    "    print(\"----------------------------------------------------------------------------\")\n",
    "    L_outliers=Q1-1.5*(Q3-Q1)\n",
    "    U_outliers=Q3+1.5*(Q3-Q1)\n",
    "    print('\\nLower outliers range: ', L_outliers)\n",
    "    print('\\nUpper outliers range: ', U_outliers)\n",
    "    print('Number of outliers in upper : ', data[data[column]>U_outliers][column].count())\n",
    "    print('Number of outliers in lower : ', data[data[column]<L_outliers][column].count())\n",
    "    print('% of Outlier in upper: ',round(data[data[column]>U_outliers][column].count()*100/len(data)), '%')\n",
    "    print('% of Outlier in lower: ',round(data[data[column]<L_outliers][column].count()*100/len(data)), '%')\n",
    "    #boxplot\n",
    "    plt.figure()\n",
    "    print(\"\\nBoxPlot of \" + column)\n",
    "    print(\"----------------------------------------------------------------------------\")\n",
    "    ax = sns.boxplot(x=data[column])\n",
    "    plt.show()\n",
    "    \n",
    "    #distplot\n",
    "    plt.figure()\n",
    "    print(\"\\ndistplot of \" + column)\n",
    "    print(\"----------------------------------------------------------------------------\")\n",
    "    sns.distplot(data[column])\n",
    "    plt.show()\n",
    "    \n",
    "    #histogram\n",
    "    plt.figure()\n",
    "    print(\"\\nHistogram of \" + column)\n",
    "    print(\"----------------------------------------------------------------------------\")\n",
    "    sns.distplot(data[column], kde=False, color='red')\n",
    "    plt.show()\n",
    "    # Plotting mean, median and mode\n",
    "    plt.figure()\n",
    "    print(\"\\nHistogram with mean, median and mode of \" + column)\n",
    "    print(\"----------------------------------------------------------------------------\")\n",
    "    mean=data[column].mean()\n",
    "    median=data[column].median()\n",
    "    mode=data[column].mode()\n",
    "\n",
    "    print('Mean: ',mean,'\\nMedian: ',median,'\\nMode: ',mode[0])\n",
    "    plt.hist(data[column],bins=100,color='lightblue') #Plot the histogram\n",
    "    plt.axvline(mean,color='green',label='Mean')     # Draw lines on the plot for mean median and the two modes we have in GRE Score\n",
    "    plt.axvline(median,color='blue',label='Median')\n",
    "    plt.axvline(mode[0],color='red',label='Mode1')\n",
    "    plt.legend()              # Plot the legend\n",
    "    plt.show()\n",
    "    print(\"\\nSkewness of \" + column)\n",
    "    print(\"----------------------------------------------------------------------------\")\n",
    "\n",
    "    print(data[column].skew())\n",
    " \n",
    "    fig ,(ax1)=plt.subplots(1,1, figsize=(25, 15))"
   ]
  },
  {
   "cell_type": "code",
   "execution_count": null,
   "id": "35c68c1c",
   "metadata": {},
   "outputs": [],
   "source": [
    "# Input data files are available in the \"../input/\" directory.\n",
    "        \n",
    "data = pd.read_csv('C:\\\\Users\\\\Adrij\\\\Documents\\\\Data Analysis and Machine Learning\\\\ds2_train.csv')\n",
    "testdata=pd.read_csv('C:\\\\Users\\\\Adrij\\\\Documents\\\\Data Analysis and Machine Learning\\\\ds2_test.csv')\n",
    "\n",
    "df_num = data.select_dtypes(include = ['float64', 'int64'])\n",
    "lstnumericcolumns = list(df_num.columns.values)\n",
    "len(lstnumericcolumns)\n"
   ]
  },
  {
   "cell_type": "code",
   "execution_count": null,
   "id": "ed120430",
   "metadata": {
    "scrolled": false
   },
   "outputs": [],
   "source": [
    "for x in lstnumericcolumns:\n",
    "    univariateAnalysis_numeric1(x,20)"
   ]
  },
  {
   "cell_type": "code",
   "execution_count": null,
   "id": "4746c0bf",
   "metadata": {},
   "outputs": [],
   "source": [
    "sns.pairplot(data,diag_kind='kde',kind='reg')"
   ]
  },
  {
   "cell_type": "code",
   "execution_count": null,
   "id": "6647f94e",
   "metadata": {},
   "outputs": [],
   "source": [
    "#correlation matrix\n",
    "data.corr().T"
   ]
  },
  {
   "cell_type": "code",
   "execution_count": null,
   "id": "f9c45a15",
   "metadata": {},
   "outputs": [],
   "source": [
    "corr = df_num.corr(method='pearson')\n",
    "mask = np.triu(np.ones_like(corr, dtype=np.bool)) \n",
    "fig = plt.subplots(figsize=(25, 15))\n",
    "sns.heatmap(df_num.corr(), annot=True,fmt='.2f',mask=mask)\n",
    "plt.show()"
   ]
  },
  {
   "cell_type": "markdown",
   "id": "b74bf9be",
   "metadata": {},
   "source": [
    "<h2>Correlations</h2>\n",
    "Correlation reveals the linear relationships between features. We want features to correlate with churn, as this will indicate that they are good predictors of it. However features that have a very high correlation can sometimes be suspicious. This is because 2 columns that have high correlation indicates that they may share a lot of the same information.\n",
    "\n",
    "For features to be independent, this means that each feature must have absolutely no dependence on any other feature. If two features are highly correlated and share similar information, we can remove them."
   ]
  },
  {
   "cell_type": "code",
   "execution_count": null,
   "id": "8a48fdf7",
   "metadata": {},
   "outputs": [],
   "source": [
    "# Let us see the significant correlation either negative or positive among independent attributes..\n",
    "c = data.corr().abs() # Since there may be positive as well as -ve correlation\n",
    "s = c.unstack() # \n",
    "so = s.sort_values(ascending=False) # Sorting according to the correlation\n",
    "so=so[(so<1) & (so>0.3)].drop_duplicates().to_frame() # Due to symmetry.. dropping duplicate entries.\n",
    "so.columns = ['correlation']\n",
    "so"
   ]
  },
  {
   "cell_type": "code",
   "execution_count": null,
   "id": "6de22492",
   "metadata": {},
   "outputs": [],
   "source": [
    "model = GaussianNB()\n",
    "from sklearn.model_selection import cross_val_score\n",
    "from sklearn.metrics import accuracy_score, confusion_matrix\n",
    "from sklearn.naive_bayes import GaussianNB\n",
    "from sklearn.model_selection import train_test_split,GridSearchCV\n",
    "cv_scores = cross_val_score(model, X_train, y_train, cv=5)\n",
    "    \n",
    "print(model, ' mean accuracy: ', round(cv_scores.mean()*100, 3), '% std: ', round(cv_scores.var()*100, 3),'%')\n",
    "cv_scores1 = cross_val_score(model, X_test, y_test, cv=5)\n",
    "print(model, ' test accuracy: ', round(cv_scores1.mean()*100, 3), '% std: ', round(cv_scores1.var()*100, 3),'%')"
   ]
  },
  {
   "cell_type": "code",
   "execution_count": null,
   "id": "07983747",
   "metadata": {},
   "outputs": [],
   "source": [
    "#Conditional Formatting in pandas - Colouring cells having 0 (zero) values\n",
    "\n",
    "data.style.applymap(lambda X_train: 'background-color : red' if X_train==0 else '')"
   ]
  },
  {
   "cell_type": "code",
   "execution_count": null,
   "id": "cde92dc9",
   "metadata": {},
   "outputs": [],
   "source": [
    "from sklearn.impute import SimpleImputer\n",
    "X_train= data.drop(columns=['y'],axis=1)\n",
    "y_train = data['y']\n",
    "X_test= testdata.drop(columns=['y'],axis=1)\n",
    "y_test = testdata['y']\n",
    "rep_0 = SimpleImputer(missing_values=0, strategy=\"mean\")\n",
    "cols = X_train.columns\n",
    "X_train = pd.DataFrame(rep_0.fit_transform(X_train))\n",
    "X_test = pd.DataFrame(rep_0.fit_transform(X_test))\n",
    "\n",
    "X_train.columns = cols\n",
    "X_test.columns = cols\n",
    "data.head()"
   ]
  },
  {
   "cell_type": "code",
   "execution_count": null,
   "id": "633d5ccc",
   "metadata": {},
   "outputs": [],
   "source": [
    "from sklearn import metrics\n",
    "predict_train = model.fit(X_train, y_train).predict(X_train)\n",
    "\n",
    "# Accuray Score on train dataset\n",
    "accuracy_train = accuracy_score(y_train,predict_train)\n",
    "print('accuracy_score on train dataset : ', accuracy_train)\n",
    "\n",
    "\n",
    "# predict the target on the test dataset\n",
    "predict_test = model.predict(X_test)\n",
    "\n",
    "# Accuracy Score on test dataset\n",
    "accuracy_test = accuracy_score(y_test,predict_test)\n",
    "print('accuracy_score on test dataset : ', accuracy_test)\n",
    "f,a =  plt.subplots(1,2,sharex=True,sharey=True,squeeze=False)\n",
    "\n",
    "#Plotting confusion matrix for the different models for the Training Data\n",
    "\n",
    "plot_0 = sns.heatmap((metrics.confusion_matrix(y_train,predict_train)),annot=True,fmt='.5g',cmap=\"YlGn\",ax=a[0][0]);\n",
    "a[0][0].set_title('Training Data')\n",
    "\n",
    "plot_1 = sns.heatmap((metrics.confusion_matrix(y_test,predict_test)),annot=True,fmt='.5g',cmap=\"YlGn\",ax=a[0][1]);\n",
    "a[0][1].set_title('Test Data')"
   ]
  },
  {
   "cell_type": "code",
   "execution_count": null,
   "id": "a57d8ca8",
   "metadata": {},
   "outputs": [],
   "source": [
    "from sklearn.metrics import roc_auc_score,roc_curve,classification_report,confusion_matrix\n",
    "print(classification_report(y_train,predict_train))\n",
    "print(classification_report(y_test,predict_test))"
   ]
  },
  {
   "cell_type": "markdown",
   "id": "5331a292",
   "metadata": {},
   "source": [
    "## Hyperparameter Tuning to improve Accuracy\n",
    "`Var_smoothing`<u> (Variance smoothing)</u> parameter specifies the portion of the largest variance of all features to be added to variances for stability of calculation.\n",
    "\n",
    "Gaussian Naive Bayes assumes that features follows normal distribution which is most unlikely in real world.So solve this problem we can perform `power transformation` on each feature to make it more or less normally distributed. By default, `PowerTransformer` results in features that have a 0 mean and 1 standard deviation."
   ]
  },
  {
   "cell_type": "code",
   "execution_count": null,
   "id": "47163b9f",
   "metadata": {},
   "outputs": [],
   "source": [
    "#Hyperparameter tuning to improve accuracy\n",
    "np.logspace(0,-9, num=10)"
   ]
  },
  {
   "cell_type": "code",
   "execution_count": null,
   "id": "278fd786",
   "metadata": {},
   "outputs": [],
   "source": [
    "from sklearn.model_selection import RepeatedStratifiedKFold\n",
    "\n",
    "cv_method = RepeatedStratifiedKFold(n_splits=5, \n",
    "                                    n_repeats=3, \n",
    "                                    random_state=999)"
   ]
  },
  {
   "cell_type": "markdown",
   "id": "3a26c857",
   "metadata": {},
   "source": [
    "## Hyperparameters Tuning using Grid Search\n",
    "\n",
    "Below is a list of common hyperparameters that needs tuning for getting best fit for our data. We'll try various hyperparameters settings to various splits of train/test data to find out best fit which will have almost the same accuracy for both train & test datasets or have quite less difference between accuracy.\n",
    "\n",
    "<span style=\"color:red\">> Parameters to Tune</span>\n",
    "\n",
    "* <b>alpha</b> - It accepts float values representing the additive smoothing parameter. The value of 0.0 represents no smoothing. The default value of this parameter is `1.0`.\n",
    "* <b>fit_prior</b> - It accepts boolean value specifying whether to learn prior class probabilities or not.\n",
    "* <b>class_prior</b> - It accepts arrays of shape <b>(n_classes,)</b> specifying prior probabilities of target classes.\n",
    "* <b>binarize</b> - It accepts <b>float</b> value specifying threshold for binarizing data features. The default is `None` and features are already considered binarized.\n",
    "\n",
    "<b>Scikit learn</b> provides a class named `GridSearchCV` that can be used to perform hyperparameters tuning.\n",
    "\n",
    "`GridSearchCV` is a wrapper class provided by sklearn which loops through all parameters provided as `params_grid parameter` with a number of cross-validation folds provided as `cv` parameter, evaluates model performance on all combinations, and stores all results in `cvresults` attribute. It also stores model which performs best in all cross-validation folds in bestestimator attribute and best score in bestscore attribute."
   ]
  },
  {
   "cell_type": "code",
   "execution_count": null,
   "id": "3f607a91",
   "metadata": {},
   "outputs": [],
   "source": [
    "from sklearn.preprocessing import PowerTransformer\n",
    "params_NB = {'var_smoothing': np.logspace(0,-9, num=100)}\n",
    "\n",
    "gs_NB = GridSearchCV(estimator=model, \n",
    "                     param_grid=params_NB, \n",
    "                     cv=cv_method,\n",
    "                     verbose=1, \n",
    "                     scoring='accuracy')\n",
    "\n",
    "Data_transformed = PowerTransformer().fit_transform(X_test)\n",
    "\n",
    "gs_NB.fit(Data_transformed, y_test)"
   ]
  },
  {
   "cell_type": "code",
   "execution_count": null,
   "id": "19e27a40",
   "metadata": {},
   "outputs": [],
   "source": [
    "gs_NB.best_params_"
   ]
  },
  {
   "cell_type": "code",
   "execution_count": null,
   "id": "a776af71",
   "metadata": {},
   "outputs": [],
   "source": [
    "gs_NB.best_score_"
   ]
  },
  {
   "cell_type": "code",
   "execution_count": null,
   "id": "52cf9a08",
   "metadata": {},
   "outputs": [],
   "source": [
    "results_NB = pd.DataFrame(gs_NB.cv_results_['params'])\n",
    "results_NB['test_score'] = gs_NB.cv_results_['mean_test_score']"
   ]
  },
  {
   "cell_type": "code",
   "execution_count": null,
   "id": "9026167f",
   "metadata": {},
   "outputs": [],
   "source": [
    "plt.plot(results_NB['var_smoothing'], results_NB['test_score'], marker = '.')    \n",
    "plt.xlabel('Var. Smoothing')\n",
    "plt.ylabel(\"Mean CV Score\")\n",
    "plt.title(\"NB Performance Comparison\")\n",
    "plt.show()"
   ]
  },
  {
   "cell_type": "markdown",
   "id": "14d1d8a3",
   "metadata": {},
   "source": [
    "## Evaluate Performance Of Fine Tuned Model\n",
    "\n",
    "Below, we have calculated accuracy and classification report on predictions made using best estimators we found through grid search. We can notice a slight improvement in model performance."
   ]
  },
  {
   "cell_type": "code",
   "execution_count": null,
   "id": "bc2cd034",
   "metadata": {},
   "outputs": [],
   "source": [
    "# predict the target on the test dataset\n",
    "predict_test = gs_NB.predict(Data_transformed)\n",
    "\n",
    "# Accuracy Score on test dataset\n",
    "accuracy_test = accuracy_score(y_test,predict_test)\n",
    "print('accuracy_score on test dataset : ', accuracy_test)\n",
    "print(\"\\nClassification Report :\")\n",
    "print(classification_report(y_test, predict_test))"
   ]
  },
  {
   "cell_type": "code",
   "execution_count": null,
   "id": "049e385d",
   "metadata": {},
   "outputs": [],
   "source": [
    "sns.heatmap((metrics.confusion_matrix(y_test,predict_test)),annot=True,fmt='.5g',cmap=\"YlGn\").set_title('Test Data')"
   ]
  },
  {
   "cell_type": "code",
   "execution_count": null,
   "id": "412facbe",
   "metadata": {},
   "outputs": [],
   "source": []
  }
 ],
 "metadata": {
  "kernelspec": {
   "display_name": "Python 3 (ipykernel)",
   "language": "python",
   "name": "python3"
  },
  "language_info": {
   "codemirror_mode": {
    "name": "ipython",
    "version": 3
   },
   "file_extension": ".py",
   "mimetype": "text/x-python",
   "name": "python",
   "nbconvert_exporter": "python",
   "pygments_lexer": "ipython3",
   "version": "3.10.9"
  }
 },
 "nbformat": 4,
 "nbformat_minor": 5
}
